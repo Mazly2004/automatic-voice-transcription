{
 "cells": [
  {
   "cell_type": "code",
   "execution_count": 1,
   "id": "c1ada755",
   "metadata": {},
   "outputs": [],
   "source": [
    "#import dependencies\n",
    "from faster_whisper import WhisperModel"
   ]
  },
  {
   "cell_type": "code",
   "execution_count": 2,
   "id": "45782ec5",
   "metadata": {},
   "outputs": [],
   "source": [
    "model_size = \"small\"\n",
    "\n",
    "model = WhisperModel(model_size, device=\"cuda\", compute_type=\"float16\")"
   ]
  },
  {
   "cell_type": "code",
   "execution_count": 3,
   "id": "f30321c9",
   "metadata": {},
   "outputs": [
    {
     "name": "stdout",
     "output_type": "stream",
     "text": [
      "Detected language 'en' with probability 0.748535\n",
      "TranscriptionInfo(language='en', language_probability=0.74853515625, duration=7.7935, duration_after_vad=7.7935, all_language_probs=[('en', 0.74853515625), ('yo', 0.140625), ('sn', 0.050933837890625), ('sw', 0.0276947021484375), ('ht', 0.005847930908203125), ('nn', 0.0055389404296875), ('bo', 0.0032806396484375), ('tr', 0.002941131591796875), ('haw', 0.0017976760864257812), ('fr', 0.0016632080078125), ('pt', 0.0012645721435546875), ('mi', 0.001255035400390625), ('ms', 0.0010824203491210938), ('cy', 0.0007853507995605469), ('ar', 0.0006771087646484375), ('de', 0.0005927085876464844), ('da', 0.0005884170532226562), ('la', 0.0005192756652832031), ('km', 0.00042366981506347656), ('af', 0.00038886070251464844), ('my', 0.0003273487091064453), ('fa', 0.0003027915954589844), ('ja', 0.00028228759765625), ('ru', 0.0002694129943847656), ('ur', 0.00021636486053466797), ('ro', 0.0001672506332397461), ('es', 0.0001633167266845703), ('zh', 0.0001608133316040039), ('bn', 0.0001475811004638672), ('ne', 0.0001271963119506836), ('nl', 0.00012230873107910156), ('ha', 0.00011491775512695312), ('jw', 0.00011491775512695312), ('sd', 0.00011491775512695312), ('as', 0.00010144710540771484), ('hi', 9.232759475708008e-05), ('tl', 9.161233901977539e-05), ('br', 8.678436279296875e-05), ('ln', 7.963180541992188e-05), ('fo', 7.963180541992188e-05), ('yi', 7.134675979614258e-05), ('he', 5.8710575103759766e-05), ('ko', 5.137920379638672e-05), ('el', 4.64320182800293e-05), ('ps', 3.421306610107422e-05), ('lo', 3.141164779663086e-05), ('bg', 2.2649765014648438e-05), ('mn', 2.1576881408691406e-05), ('th', 1.8596649169921875e-05), ('si', 1.806020736694336e-05), ('hy', 1.615285873413086e-05), ('te', 1.6033649444580078e-05), ('pa', 1.436471939086914e-05), ('sv', 1.4185905456542969e-05), ('is', 1.1861324310302734e-05), ('id', 1.1861324310302734e-05), ('sk', 1.1146068572998047e-05), ('ml', 9.894371032714844e-06), ('no', 7.450580596923828e-06), ('gl', 7.033348083496094e-06), ('uk', 6.973743438720703e-06), ('tg', 6.794929504394531e-06), ('am', 6.794929504394531e-06), ('vi', 6.794929504394531e-06), ('sq', 6.735324859619141e-06), ('lb', 5.602836608886719e-06), ('ka', 5.364418029785156e-06), ('mt', 5.125999450683594e-06), ('sa', 4.887580871582031e-06), ('pl', 4.76837158203125e-06), ('oc', 4.410743713378906e-06), ('it', 3.6954879760742188e-06), ('so', 3.516674041748047e-06), ('mk', 2.86102294921875e-06), ('ta', 2.562999725341797e-06), ('bs', 2.205371856689453e-06), ('lv', 2.205371856689453e-06), ('lt', 2.086162567138672e-06), ('sl', 1.9073486328125e-06), ('be', 1.9073486328125e-06), ('kk', 1.6689300537109375e-06), ('kn', 1.6689300537109375e-06), ('mr', 1.430511474609375e-06), ('hr', 1.3113021850585938e-06), ('cs', 1.2516975402832031e-06), ('mg', 1.1324882507324219e-06), ('eu', 1.0728836059570312e-06), ('su', 5.960464477539062e-07), ('gu', 5.364418029785156e-07), ('az', 4.76837158203125e-07), ('fi', 3.5762786865234375e-07), ('tt', 2.980232238769531e-07), ('tk', 1.7881393432617188e-07), ('ba', 1.7881393432617188e-07), ('sr', 1.1920928955078125e-07), ('uz', 5.960464477539063e-08), ('et', 5.960464477539063e-08), ('hu', 0.0), ('ca', 0.0)], transcription_options=TranscriptionOptions(beam_size=5, best_of=5, patience=1, length_penalty=1, repetition_penalty=1, no_repeat_ngram_size=0, log_prob_threshold=-1.0, no_speech_threshold=0.6, compression_ratio_threshold=2.4, condition_on_previous_text=True, prompt_reset_on_temperature=0.5, temperatures=[0.0, 0.2, 0.4, 0.6, 0.8, 1.0], initial_prompt=None, prefix=None, suppress_blank=True, suppress_tokens=(1, 2, 7, 8, 9, 10, 14, 25, 26, 27, 28, 29, 31, 58, 59, 60, 61, 62, 63, 90, 91, 92, 93, 359, 503, 522, 542, 873, 893, 902, 918, 922, 931, 1350, 1853, 1982, 2460, 2627, 3246, 3253, 3268, 3536, 3846, 3961, 4183, 4667, 6585, 6647, 7273, 9061, 9383, 10428, 10929, 11938, 12033, 12331, 12562, 13793, 14157, 14635, 15265, 15618, 16553, 16604, 18362, 18956, 20075, 21675, 22520, 26130, 26161, 26435, 28279, 29464, 31650, 32302, 32470, 36865, 42863, 47425, 49870, 50254, 50258, 50358, 50359, 50360, 50361), without_timestamps=False, max_initial_timestamp=1.0, word_timestamps=False, prepend_punctuations='\"\\'“¿([{-', append_punctuations='\"\\'.。,，!！?？:：”)]}、', multilingual=False, max_new_tokens=None, clip_timestamps='0', hallucination_silence_threshold=None, hotwords=None), vad_options=None)\n",
      "[Segment(id=1, seek=0, start=0.0, end=5.6000000000000005, text=\" why are you so bad at this but my problem is I can't connect to the\", tokens=[50364, 983, 366, 291, 370, 1578, 412, 341, 457, 452, 1154, 307, 286, 393, 380, 1745, 281, 264, 50644], avg_logprob=-0.3275462830508197, compression_ratio=1.139240506329114, no_speech_prob=0.06390380859375, words=None, temperature=0.0), Segment(id=2, seek=0, start=5.6000000000000005, end=8.92, text=' internet I told you so', tokens=[50644, 4705, 286, 1907, 291, 370, 50810], avg_logprob=-0.3275462830508197, compression_ratio=1.139240506329114, no_speech_prob=0.06390380859375, words=None, temperature=0.0)]\n"
     ]
    }
   ],
   "source": [
    "segments, info = model.transcribe(\"audios/2.opus\", beam_size=5)\n",
    "\n",
    "print(\"Detected language '%s' with probability %f\" % (info.language, info.language_probability))\n",
    "print(info)\n",
    "print(list(segments))\n",
    "\n",
    "for segment in segments:\n",
    "    print(\"[%.2fs -> %.2fs] %s\" % (segment.start, segment.end, segment.text))"
   ]
  },
  {
   "cell_type": "code",
   "execution_count": null,
   "id": "67375565",
   "metadata": {},
   "outputs": [],
   "source": []
  },
  {
   "cell_type": "code",
   "execution_count": null,
   "id": "47267821",
   "metadata": {},
   "outputs": [],
   "source": [
    "from faster_whisper import BatchedInferencePipeline\n",
    "\n",
    "model = WhisperModel(\"turbo\", device=\"cuda\", compute_type=\"float16\")\n",
    "batched_model = BatchedInferencePipeline(model=model)\n"
   ]
  },
  {
   "cell_type": "code",
   "execution_count": null,
   "id": "3058471f",
   "metadata": {},
   "outputs": [],
   "source": [
    "segments, info = batched_model.transcribe(\"audios/2.opus\", batch_size=4)\n",
    "\n",
    "for segment in segments:\n",
    "    print(\"[%.2fs -> %.2fs] %s\" % (segment.start, segment.end, segment.text))"
   ]
  }
 ],
 "metadata": {
  "kernelspec": {
   "display_name": "venv (3.13.6)",
   "language": "python",
   "name": "python3"
  },
  "language_info": {
   "codemirror_mode": {
    "name": "ipython",
    "version": 3
   },
   "file_extension": ".py",
   "mimetype": "text/x-python",
   "name": "python",
   "nbconvert_exporter": "python",
   "pygments_lexer": "ipython3",
   "version": "3.13.6"
  }
 },
 "nbformat": 4,
 "nbformat_minor": 5
}
